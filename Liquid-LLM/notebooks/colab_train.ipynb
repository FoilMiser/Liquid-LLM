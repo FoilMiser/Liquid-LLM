{
 "cells": [
  {
   "cell_type": "markdown",
   "id": "283b120b",
   "metadata": {},
   "source": [
    "# Liquid-LLM Colab (Stage A KD)\n",
    "Install deps, mount Drive (optional), and run a short KD loop."
   ]
  },
  {
   "cell_type": "code",
   "execution_count": null,
   "id": "055e5ea4",
   "metadata": {},
   "outputs": [],
   "source": [
    "!pip -q install torchdiffeq transformers datasets accelerate evaluate sentencepiece bitsandbytes huggingface_hub wandb"
   ]
  },
  {
   "cell_type": "code",
   "execution_count": null,
   "id": "0d6fd6d5",
   "metadata": {},
   "outputs": [],
   "source": [
    "import torch, os\n",
    "print(torch.cuda.get_device_name(0) if torch.cuda.is_available() else 'CPU only')"
   ]
  },
  {
   "cell_type": "code",
   "execution_count": null,
   "id": "ecb29d8c",
   "metadata": {},
   "outputs": [],
   "source": [
    "# Clone your repo (replace with your GitHub URL after pushing)\n",
    "# !git clone <your-fork-url>\n",
    "# %cd Liquid-LLM"
   ]
  },
  {
   "cell_type": "code",
   "execution_count": null,
   "id": "2a3ec0a6",
   "metadata": {},
   "outputs": [],
   "source": [
    "from src.train_kd import train_small_kd\n",
    "print('Placeholder: train tokenizer first or point to an existing tokenizer.')"
   ]
  }
 ],
 "metadata": {},
 "nbformat": 4,
 "nbformat_minor": 5
}
